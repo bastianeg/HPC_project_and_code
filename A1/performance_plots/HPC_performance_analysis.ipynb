{
 "cells": [
  {
   "cell_type": "markdown",
   "metadata": {},
   "source": [
    "# HPC performance visualization"
   ]
  },
  {
   "cell_type": "code",
   "execution_count": null,
   "metadata": {},
   "outputs": [],
   "source": [
    "import pandas as pd\n",
    "import matplotlib.pyplot as plt"
   ]
  },
  {
   "cell_type": "code",
   "execution_count": null,
   "metadata": {},
   "outputs": [],
   "source": [
    "plt.rcParams.update({'font.size': 16})"
   ]
  },
  {
   "cell_type": "markdown",
   "metadata": {},
   "source": [
    "## Read and format files\n",
    "n = [16, 32, 64, 128, 256, 512, 1024, 2048]"
   ]
  },
  {
   "cell_type": "code",
   "execution_count": null,
   "metadata": {},
   "outputs": [],
   "source": [
    "cd data"
   ]
  },
  {
   "cell_type": "code",
   "execution_count": null,
   "metadata": {},
   "outputs": [],
   "source": [
    "#blocked version\n",
    "blk = pd.read_csv('blk.csv', header=None, delim_whitespace=True)\n",
    "blk.drop(columns=[2,3,4], inplace=True)\n",
    "blk = blk.rename({0: \"size\", 1: \"Mflop/s\"}, axis=1)\n",
    "\n",
    "#unoptimized version\n",
    "unopt = pd.read_csv('unopti.csv', header=None, delim_whitespace=True)\n",
    "unopt.drop(columns=[2,3], inplace=True)\n",
    "unopt = unopt.rename({0: \"size\", 1: \"Mflop/s\"}, axis=1)\n",
    "\n",
    "#permutations\n",
    "per = pd.read_csv('per.csv', header=None, delim_whitespace=True)\n",
    "per.drop(columns=[2], inplace=True)\n",
    "per = per.rename({0: \"size\", 1: \"Mflop/s\", 3: 'per'}, axis=1)\n",
    "\n",
    "# extract individual permutations from dataframe\n",
    "mnk = per.loc[per['per'] == 'matmult_mnk']\n",
    "mkn = per.loc[per['per'] == 'matmult_mkn']\n",
    "nmk = per.loc[per['per'] == 'matmult_nmk']\n",
    "nkm = per.loc[per['per'] == 'matmult_nkm']\n",
    "kmn = per.loc[per['per'] == 'matmult_kmn']\n",
    "knm = per.loc[per['per'] == 'matmult_knm']\n",
    "\n",
    "#CBLAS\n",
    "lib = pd.read_csv('cblas.csv', header=None, delim_whitespace=True)\n",
    "lib.drop(columns=[2], inplace=True)\n",
    "lib = lib.rename({0: \"size\", 1: \"Mflop/s\", 3: 'lib'}, axis=1)\n",
    "\n",
    "\n",
    "#varying blocksizes\n",
    "blksize = pd.read_csv('blksize.csv', header=None, delim_whitespace=True)\n",
    "blksize.drop(columns=[0,2,3], inplace=True)\n",
    "blksize = blksize.rename({1: \"Mflop/s\", 4: \"Blocksize\"}, axis=1)\n",
    "\n",
    "#hardware stats\n",
    "hw = pd.read_csv('res.csv', delim_whitespace=True)\n",
    "cache = hw.drop(columns=['CPUsec.','CPUsec..1'])"
   ]
  },
  {
   "cell_type": "code",
   "execution_count": null,
   "metadata": {},
   "outputs": [],
   "source": [
    "cd .."
   ]
  },
  {
   "cell_type": "markdown",
   "metadata": {},
   "source": [
    "## Plot results"
   ]
  },
  {
   "cell_type": "code",
   "execution_count": null,
   "metadata": {},
   "outputs": [],
   "source": [
    "f, ax = plt.subplots(figsize=(15,9))\n",
    "\n",
    "#ax.semilogx(lib['size'], lib['Mflop/s'], marker='*', label='lib');\n",
    "ax.semilogx(mnk['size'], mnk['Mflop/s'], marker='*', label='mnk');\n",
    "ax.semilogx(mkn['size'], mkn['Mflop/s'], marker='*', label='mkn');\n",
    "ax.semilogx(nmk['size'], nmk['Mflop/s'], marker='*', label='nmk');\n",
    "ax.semilogx(nkm['size'], nkm['Mflop/s'], marker='*', label='nkm');\n",
    "ax.semilogx(kmn['size'], kmn['Mflop/s'], marker='*', label='kmn');\n",
    "ax.semilogx(knm['size'], knm['Mflop/s'], marker='*', label='knm');\n",
    "ax.semilogx(blk['size'], blk['Mflop/s'], marker='*', label='blk (bs=32)');\n",
    "ax.set(xlabel='Memory occupied by matrices [kB]', ylabel='Mflop/s', title='Permutation comparison',\n",
    "      ylim=(0,7500));\n",
    "\n",
    "#ax.axhline(max_mflops)\n",
    "ax.axvline(32, linewidth=0.5, color='k', label='L1 cache')\n",
    "ax.axvline(256, linewidth=0.5, color='b', label='L2 cache')\n",
    "ax.axvline(30000, linewidth=0.5, color='r', label='L3 cache')\n",
    "ax.legend(loc='upper left', bbox_to_anchor=(0.0, 1),\n",
    "          ncol=3, fancybox=True, shadow=True);\n",
    "\n",
    "# uncomment to save figure:\n",
    "#f.savefig('per_comparison.png', dpi=300)"
   ]
  },
  {
   "cell_type": "code",
   "execution_count": null,
   "metadata": {},
   "outputs": [],
   "source": [
    "# max clock freq. 2.9 GHz\n",
    "clockmax = 2900 #MHz\n",
    "# instructions per cycle\n",
    "instr_p_cyc = 16\n",
    "max_mflops = clockmax * instr_p_cyc\n",
    "max_mflops # theoretically"
   ]
  },
  {
   "cell_type": "code",
   "execution_count": null,
   "metadata": {},
   "outputs": [],
   "source": [
    "# unoptimized (native) mkn vs  optimized mkn vs CBLAS\n",
    "f, ax = plt.subplots(figsize=(15,8))\n",
    "\n",
    "ax.semilogx(lib['size'], lib['Mflop/s'], marker='*', label='CBLAS');\n",
    "ax.semilogx(mkn['size'], mkn['Mflop/s'], marker='*', label='mkn');\n",
    "ax.semilogx(unopt['size'], unopt['Mflop/s'], marker='*', label='mkn unopt.');\n",
    "ax.set(xlabel='Memory occupied by matrices [kB]', ylabel='Mflop/s', title='CBLAS comparison');\n",
    "\n",
    "#ax.axhline(max_mflops, linestyle='--', label='Theoretical max', linewidth=0.8)\n",
    "ax.axvline(32, linewidth=0.5, color='k', label='L1 cache')\n",
    "ax.axvline(256, linewidth=0.5, color='b', label='L2 cache')\n",
    "ax.axvline(30000, linewidth=0.5, color='r', label='L3 cache')\n",
    "ax.legend(loc='upper left', bbox_to_anchor=(0.0, 1),\n",
    "          ncol=1, fancybox=True, shadow=True);\n",
    "\n",
    "# uncomment to save figure:\n",
    "#f.savefig('native_vs_cblas.png', dpi=300)"
   ]
  },
  {
   "cell_type": "markdown",
   "metadata": {},
   "source": [
    "### Hardware stats"
   ]
  },
  {
   "cell_type": "code",
   "execution_count": null,
   "metadata": {},
   "outputs": [],
   "source": [
    "cache"
   ]
  },
  {
   "cell_type": "code",
   "execution_count": null,
   "metadata": {},
   "outputs": [],
   "source": [
    "ax = cache.plot.bar(x='Versions', rot=0, color=['deepskyblue','orangered', 'steelblue', 'firebrick'],\n",
    "               title='CPU cache access comparison', figsize=(10,7), width=0.7, zorder=3);\n",
    "ax.yaxis.grid(True, color='#BBBBBB')\n",
    "\n",
    "# uncomment to save figure:\n",
    "#plt.savefig('Cache_access.png', dpi=300)"
   ]
  },
  {
   "cell_type": "code",
   "execution_count": null,
   "metadata": {},
   "outputs": [],
   "source": [
    "f, ax = plt.subplots(figsize=(15,8))\n",
    "ax.semilogx(blksize['Blocksize'], blksize['Mflop/s'], marker='*', linewidth=0.7);\n",
    "ax.set(xlabel='Blocksize', ylabel='Mflop/s', title='Performance with different blocksizes');\n",
    "\n",
    "ax.axvline(32, linewidth=0.5, color='k', label='L1 cache');\n",
    "ax.axvline(256, linewidth=0.5, color='b', label='L2 cache');\n",
    "\n",
    "ax.legend();"
   ]
  },
  {
   "cell_type": "code",
   "execution_count": null,
   "metadata": {},
   "outputs": [],
   "source": [
    "blksize"
   ]
  },
  {
   "cell_type": "code",
   "execution_count": null,
   "metadata": {},
   "outputs": [],
   "source": []
  }
 ],
 "metadata": {
  "kernelspec": {
   "display_name": "dtu_RL",
   "language": "python",
   "name": "dtu_rl"
  },
  "language_info": {
   "codemirror_mode": {
    "name": "ipython",
    "version": 3
   },
   "file_extension": ".py",
   "mimetype": "text/x-python",
   "name": "python",
   "nbconvert_exporter": "python",
   "pygments_lexer": "ipython3",
   "version": "3.7.1"
  }
 },
 "nbformat": 4,
 "nbformat_minor": 2
}
